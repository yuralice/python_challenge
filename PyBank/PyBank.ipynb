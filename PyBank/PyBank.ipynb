{
 "cells": [
  {
   "cell_type": "code",
   "execution_count": 57,
   "metadata": {},
   "outputs": [],
   "source": [
    "import os\n",
    "import csv\n",
    "\n",
    "# Path to collect data from the Resources folder\n",
    "pybank_csv = os.path.join('.', 'Resources', 'budget_data.csv')\n",
    "\n",
    "\n",
    "# Read in the CSV file\n",
    "with open(pybank_csv, 'r') as csvfile:\n",
    "    \n",
    "    # Split the data on commas\n",
    "    csvreader = csv.reader(csvfile, delimiter=\",\")\n",
    "    #print(csvreader)\n",
    "    header = next(csvreader)\n",
    "    month = 0\n",
    "    currentprofit = 0\n",
    "    totalprofit = 0\n",
    "    lastprofit = 0\n",
    "    change = 0\n",
    "    sumchange = 0\n",
    "    maxchange = 0\n",
    "    maxmonth = 0\n",
    "    minchange = 0\n",
    "    minmonth = 0\n",
    "    for row in csvreader:\n",
    "        month += 1\n",
    "        currentprofit = row[1]\n",
    "        totalprofit = float(currentprofit) + totalprofit\n",
    "        if month >1:\n",
    "            change = float(currentprofit) - float(lastprofit)\n",
    "            sumchange = change + sumchange\n",
    "            if change > maxchange:\n",
    "                maxchange = change\n",
    "                maxmonth = row[0]\n",
    "            if change < minchange:\n",
    "                minchange = change\n",
    "                minmonth = row[0]\n",
    "        lastprofit = currentprofit\n",
    "            \n",
    "averageprofit = round(sumchange/(month-1),2)\n",
    "maxchange = round(maxchange,2)\n",
    "minchange = round(minchange,2)\n",
    "    \n",
    "#print(f\"Total Months: {month}\")\n",
    "#print(f\"Total Profits and Losses: ${totalprofit}\")\n",
    "#print(f\"Average Monthly Profits and Losses: ${averageprofit}\")\n",
    "#print(f\"Greatest Increase in Profits: ${maxchange} during {maxmonth}\")\n",
    "#print(f\"Greatest Decrease in Profits: ${minchange} during {minmonth}\")\n",
    "\n",
    "\n",
    "with open(\"PyBank.txt\", \"w\") as text_file:\n",
    "    \n",
    "    print(f\"Total Months: {month}\", file = text_file)\n",
    "    print(f\"Total Profits and Losses: ${totalprofit}\", file = text_file)\n",
    "    print(f\"Average Monthly Profits and Losses: ${averageprofit}\", file = text_file)\n",
    "    print(f\"Greatest Increase in Profits: ${maxchange} during {maxmonth}\", file = text_file)\n",
    "    print(f\"Greatest Decrease in Profits: ${minchange} during {minmonth}\", file = text_file)\n",
    "    "
   ]
  },
  {
   "cell_type": "code",
   "execution_count": null,
   "metadata": {},
   "outputs": [],
   "source": []
  }
 ],
 "metadata": {
  "kernelspec": {
   "display_name": "Python 3",
   "language": "python",
   "name": "python3"
  },
  "language_info": {
   "codemirror_mode": {
    "name": "ipython",
    "version": 3
   },
   "file_extension": ".py",
   "mimetype": "text/x-python",
   "name": "python",
   "nbconvert_exporter": "python",
   "pygments_lexer": "ipython3",
   "version": "3.7.0"
  }
 },
 "nbformat": 4,
 "nbformat_minor": 2
}
